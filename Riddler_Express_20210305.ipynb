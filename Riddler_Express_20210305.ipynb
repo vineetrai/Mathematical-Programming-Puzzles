{
  "nbformat": 4,
  "nbformat_minor": 0,
  "metadata": {
    "colab": {
      "name": "Riddler_Express_20210305.ipynb",
      "provenance": [],
      "collapsed_sections": [],
      "authorship_tag": "ABX9TyPzMvs67yQGIeA1fpgTK4EJ",
      "include_colab_link": true
    },
    "kernelspec": {
      "name": "python3",
      "display_name": "Python 3"
    }
  },
  "cells": [
    {
      "cell_type": "markdown",
      "metadata": {
        "id": "view-in-github",
        "colab_type": "text"
      },
      "source": [
        "<a href=\"https://colab.research.google.com/github/vineetrai/puzzles/blob/main/Riddler_Express_20210305.ipynb\" target=\"_parent\"><img src=\"https://colab.research.google.com/assets/colab-badge.svg\" alt=\"Open In Colab\"/></a>"
      ]
    },
    {
      "cell_type": "markdown",
      "metadata": {
        "id": "MIEuSTWlQNco"
      },
      "source": [
        "# [FiveThirtyEight Riddler Express 2021-03-05](https://fivethirtyeight.com/features/can-you-bat-299-in-299-games/)\n",
        "Vineet Rai\n",
        "## The Riddle\n",
        "*You have three coins in your pocket, each of which can be a penny, nickel, dime or quarter with equal probability. You might have three different coins, three of the same coin or two coins that are the same and one that is different.*\n",
        "\n",
        "*Each of these coins can buy you a string whose length in centimeters equals the value of the coin in cents, i.e., the penny buys 1 cm of string, the nickel buys 5 cm of string, etc. After purchasing your three lengths of string, what is the probability that they can be the side lengths of a triangle?*\n",
        "\n",
        "---\n",
        "## The Answer\n",
        "$$\\text{Probability}=\\frac{11}{32}\\approx 0.344$$\n",
        "\n",
        "---\n",
        "## The Solution\n",
        "There are $4$ choices each for the first, second, and third coins, so there are a total of $4\\times 4\\times 4=64$ ordered possibilities for the three coins.\n",
        "\n",
        "Not all of these ordered possibilities will produce different triangles. For example, **NNP** (nickel, nickel, penny) gives the same triangle as **NPN** (nickel, penny, nickel). Only the types of coins matter, not their order. How many unique combinations of coins are possible here?"
      ]
    },
    {
      "cell_type": "markdown",
      "metadata": {
        "id": "ujlEFD_xXWg3"
      },
      "source": [
        "*You might have three different coins...*\n",
        "\n",
        "In this case, we choose $3$ coins from $4$ different types, so there are $\\binom{4}{3}=4$ combinations of three different coins. There are $3!=6$ ways to permute a combination of three different coins.\n",
        "\n",
        "*...three of the same coin...*\n",
        "\n",
        "Here we choose $1$ coin type from $4$ different types, so there are $\\binom{4}{1}=4$ combinations for three of the same coin. There is $1$ way to permute a combination of three of the same coin.\n",
        "\n",
        "*...or two coins that are the same and one that is different....*\n",
        "\n",
        "We choose $1$ coin type from $4$ possibilities, and then choose $1$ more coin type from $3$ remaining possibilities. So there are $\\binom{4}{1}\\times\\binom{3}{1}=12$ combinations for two coins of the same type and one different. There are $3$ ways to permute such a combination of coins.\n",
        "\n",
        "Altogether, there are $(4+4+12)=20$ unique combinations for the coins, and $(4\\times 6\\;+\\;4\\times 1\\;+\\;12\\times 3)=64$ ordered combinations, also known as a permutation."
      ]
    },
    {
      "cell_type": "markdown",
      "metadata": {
        "id": "4biwAKyKYWt5"
      },
      "source": [
        "The [triangle inequality](https://www.mathsisfun.com/geometry/triangle-inequality-theorem.html) tells us if three side lengths can form a triangle or not. According to the theorem, the sum of *any* two side lengths must be greater than the third. This needs to be true for *all* combinations of side lengths for a triangle to be possible.\n",
        "\n",
        "| Combination | Values | # Ways | Triangle? |\n",
        "|-------------|--------|----------------|-----------|\n",
        "PPP|1,1,1|1|Yes\n",
        "NNN|5,5,5|1|Yes\n",
        "DDD|10,10,10|1|Yes\n",
        "QQQ|25,25,25|1|Yes\n",
        "PND|1,5,10|6|No\n",
        "PNQ|1,5,25|6|No\n",
        "PDQ|1,10,25|6|No\n",
        "NDQ|5,10,25|6|No\n",
        "PPN|1,1,5|3|No\n",
        "PPD|1,1,10|3|No\n",
        "PPQ|1,1,25|3|No\n",
        "NNP|5,5,1|3|Yes\n",
        "NND|5,5,10|3|No*\n",
        "NNQ|5,5,25|3|No\n",
        "DDP|10,10,1|3|Yes\n",
        "DDN|10,10,5|3|Yes\n",
        "DDQ|10,10,25|3|No\n",
        "QQP|25,25,1|3|Yes\n",
        "QQN|25,25,5|3|Yes\n",
        "QQD|25,25,10|3|Yes\n",
        "\n",
        "In the first row, **PPP** is a triangle because every side length is $1$, and $1+1=2>1$.\n",
        "\n",
        "In the ninth row, **PPN** is *not* a triangle because $1+1=2<5$.\n",
        "\n",
        "\n",
        "\n",
        "In the case of **NND**, we get $5+5=10$, which is the same as the remaining side length. This does not produce a \"normal\" triangle, but instead a \"degenerate\" triangle with $0$ area and all vertices collinear.\n",
        "\n",
        "If we sum the **# Ways** column we get $64$, which is the total number of permutations for the three coins. If we sum this column only for rows which produce a triangle, we get $22$.\n",
        "\n",
        "If we simply take the part over the whole, we get a proportion which is the same as our probability.\n",
        "\n",
        "$$\\frac{\\text{# Ways to get Triangle}}{\\text{# Permutations}}=\\frac{22}{64}=\\frac{11}{32}$$\n",
        "\n",
        "$$\\text{Probability}=\\frac{11}{32}\\approx 0.344$$"
      ]
    }
  ]
}