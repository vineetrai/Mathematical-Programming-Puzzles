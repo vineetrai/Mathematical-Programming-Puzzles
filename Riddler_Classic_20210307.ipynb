{
  "nbformat": 4,
  "nbformat_minor": 0,
  "metadata": {
    "colab": {
      "name": "Riddler_Classic_20210307.ipynb",
      "provenance": [],
      "authorship_tag": "ABX9TyN9h6tTaa1S6lnUYKuVX9aN",
      "include_colab_link": true
    },
    "kernelspec": {
      "name": "python3",
      "display_name": "Python 3"
    }
  },
  "cells": [
    {
      "cell_type": "markdown",
      "metadata": {
        "id": "view-in-github",
        "colab_type": "text"
      },
      "source": [
        "<a href=\"https://colab.research.google.com/github/vineetrai/puzzles/blob/main/Riddler_Classic_20210307.ipynb\" target=\"_parent\"><img src=\"https://colab.research.google.com/assets/colab-badge.svg\" alt=\"Open In Colab\"/></a>"
      ]
    },
    {
      "cell_type": "markdown",
      "metadata": {
        "id": "QcZF-tjOoVUE"
      },
      "source": [
        "# [FiveThirtyEight Riddler Classic 2021-03-05](https://fivethirtyeight.com/features/can-you-bat-299-in-299-games/)\n",
        "Vineet Rai\n",
        "## The Riddle\n",
        "*...Suppose a baseball player has four at-bats per game (not including walks), so their batting average is the number of hits they got divided by four times the number of games they played. For many games, it’s possible to have a corresponding batting average that, when rounded to three digits, equals the number of games divided by 1,000. For example, if a player typically gets one hit per game in their at-bats, then they could very well have a .250 average over 250 games.*\n",
        "\n",
        "*What is the greatest number of games for which it is not possible to have a matching rounded batting average? Again, assume four at-bats per game.*\n",
        "\n",
        "---\n",
        "## The Answer\n",
        "$$239\\;\\text{games.}$$\n",
        "\n",
        "---\n",
        "## The Solution\n",
        "The [batting average](https://en.wikipedia.org/wiki/Batting_average#Baseball) $AVG$ is defined as\n",
        "$$\\text{AVG}=\\text{round}\\left(\\frac{H}{AB}\\right)$$\n",
        "where $\\text{round}$ is a function that rounds to $3$ decimal places, $H$ is the total number of hits and $AB$ is the total number of at bats. If we assume there are $N$ games and $4$ at bats per game, then\n",
        "$$\\text{AVG}=\\text{round}\\left(\\frac{H}{4N}\\right)$$\n",
        "We are interested in the situation where the rounded batting average matches the number of games divided by 1000, so\n",
        "$$\\text{round}\\left(\\frac{H}{4N}\\right)=\\frac{N}{1000}$$\n",
        "$$\\frac{H}{4N}\\approx\\frac{N}{1000}$$\n",
        "$$H\\approx\\frac{N^2}{250}$$\n",
        "So $H$ should be approximately equal to $\\frac{N^2}{250}$.\n",
        "\n",
        "For every integer value of $N$ up to some arbitrary limit, we will check integers around $\\frac{N^2}{250}$ to see if they satisfy the equation: $\\text{round}\\left(\\frac{H}{4N}\\right)=\\frac{N}{1000}$. If not, we store the value of $N$, and then finally we return the largest stored value of $N$."
      ]
    },
    {
      "cell_type": "code",
      "metadata": {
        "colab": {
          "base_uri": "https://localhost:8080/"
        },
        "id": "eNvxvaHNo3G1",
        "outputId": "2b26390f-11ed-428d-f2d6-08a10f6b5785"
      },
      "source": [
        "import math\n",
        "import numpy as np\n",
        "\n",
        "# Source: https://realpython.com/python-rounding/#rounding-up\n",
        "def round_half_up(n, decimals=3):\n",
        "    multiplier = 10 ** decimals\n",
        "    return math.floor(n*multiplier + 0.5) / multiplier\n",
        "\n",
        "vec = np.vectorize(round_half_up)\n",
        "\n",
        "ls = []\n",
        "for N in range(1,1000):\n",
        "    H = [x for x in range(int(0.95*N**2/250),int(1.10*N**2/250))]\n",
        "    H = np.asarray(H)\n",
        "    H = H/(4*N)\n",
        "    if len(H) == 0:\n",
        "        ls.append(N)\n",
        "    if len(H) > 0:\n",
        "        if not any(vec(H) == N/1000):\n",
        "            ls.append(N)\n",
        "\n",
        "print('The greatest number of games is',ls[-1])"
      ],
      "execution_count": null,
      "outputs": [
        {
          "output_type": "stream",
          "text": [
            "The greatest number of games is 239\n"
          ],
          "name": "stdout"
        }
      ]
    }
  ]
}